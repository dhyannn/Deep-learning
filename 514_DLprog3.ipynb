{
  "nbformat": 4,
  "nbformat_minor": 0,
  "metadata": {
    "colab": {
      "provenance": [],
      "authorship_tag": "ABX9TyMRzofwNxSU3+6rDuY6+66m",
      "include_colab_link": true
    },
    "kernelspec": {
      "name": "python3",
      "display_name": "Python 3"
    },
    "language_info": {
      "name": "python"
    }
  },
  "cells": [
    {
      "cell_type": "markdown",
      "metadata": {
        "id": "view-in-github",
        "colab_type": "text"
      },
      "source": [
        "<a href=\"https://colab.research.google.com/github/dhyannn/Deep-learning/blob/main/514_DLprog3.ipynb\" target=\"_parent\"><img src=\"https://colab.research.google.com/assets/colab-badge.svg\" alt=\"Open In Colab\"/></a>"
      ]
    },
    {
      "cell_type": "markdown",
      "source": [
        "1.Imagine you are the manager of an online retail store, and you want to optimize the pricing\n",
        "strategy for a specific product based on real-time data with the objective to minimize the revenue\n",
        "lost on the marketing/advertisements of a product. Assume the revenue function is given by\n",
        "ƒ (w) = 0.5w2-30w +100, where x is the cost on the product advertisement. Start with an initial\n",
        "price as w=20 and find the optimal price (w) using appropriate momentum based optimization\n",
        "algorithm that could minimize the revenue lost. (Note: repeat for at least 3 iterations with\n",
        "learning rate=0.1 & momentum=0.9)\n",
        "\n",
        "\n",
        "2.You are working as a data scientist for a healthcare company that aims to predict the likelihood\n",
        "of patients developing a certain disease based on various medical parameters. You have been\n",
        "tasked with developing a deep learning model using a dataset obtained from Kaggle or any other\n",
        "repository. This dataset contains information about patients' demographics, medical history, and\n",
        "test results.\n",
        "Your goal is to build a neural network model that can effectively predict the likelihood of a\n",
        "patient developing the disease. However, due to the complexity of the dataset and potential\n",
        "overfitting issues, you decide to implement three different regularization techniques: L1\n",
        "regularization, L2 regularization, and elastic net regularization."
      ],
      "metadata": {
        "id": "5E0MrdTSBABx"
      }
    },
    {
      "cell_type": "code",
      "source": [],
      "metadata": {
        "id": "C2pazEFhD_SS"
      },
      "execution_count": null,
      "outputs": []
    }
  ]
}